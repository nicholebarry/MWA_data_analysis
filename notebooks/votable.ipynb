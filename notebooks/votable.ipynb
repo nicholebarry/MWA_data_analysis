{
 "cells": [
  {
   "cell_type": "code",
   "execution_count": 1,
   "id": "e948fe3a",
   "metadata": {},
   "outputs": [],
   "source": [
    "from astropy.table import Table\n",
    "import numpy as np\n",
    "#vt = Table.read('/Users/nicholebarry/MWA/data/2014_EoR0_all.xml', format='votable')\n",
    "#vt = Table.read('/Users/nicholebarry/MWA/data/2016_EoR0_compact.xml', format='votable')\n",
    "vt = Table.read('/Users/nicholebarry/MWA/zenith_data_beamdeform.xml', format='votable')"
   ]
  },
  {
   "cell_type": "code",
   "execution_count": 2,
   "id": "ffdf4e5f",
   "metadata": {},
   "outputs": [
    {
     "data": {
      "text/html": [
       "<div><i>Table length=460</i>\n",
       "<table id=\"table4936623440\" class=\"table-striped table-bordered table-condensed\">\n",
       "<thead><tr><th>obs_id</th><th>starttime</th><th>stoptime</th><th>duration</th><th>starttime_mjd</th><th>stoptime_mjd</th><th>starttime_utc</th><th>stoptime_utc</th><th>starttime_mro</th><th>stoptime_mro</th><th>obsname</th><th>creator</th><th>modtime</th><th>mode</th><th>projectid</th><th>projectshortname</th><th>projectdescription</th><th>dataquality</th><th>dataqualityname</th><th>dataqualitycomment</th><th>deleted_flag</th><th>deletedtime_mro</th><th>vcs_recombined_flag</th><th>int_time</th><th>freq_res</th><th>ra</th><th>dec</th><th>ra_pointing</th><th>dec_pointing</th><th>ra_phase_center</th><th>dec_phase_center</th><th>azimuth_pointing</th><th>elevation_pointing</th><th>azimuth</th><th>elevation</th><th>gal_lat</th><th>gal_long</th><th>sky_temp</th><th>calibration</th><th>calibrators</th><th>gridpoint_name</th><th>gridpoint_number</th><th>local_sidereal_time_deg</th><th>sun_elevation</th><th>sun_pointing_distance</th><th>jupiter_pointing_distance</th><th>moon_pointing_distance</th><th>channel_numbers_csv</th><th>channel_center_frequencies_mhz_csv</th><th>first_channel_number</th><th>center_channel_number</th><th>last_channel_number</th><th>first_channel_lowest_frequency_mhz</th><th>center_frequency_mhz</th><th>last_channel_highest_frequency_mhz</th><th>channels_are_contiguous</th><th>channel_count</th><th>channel_width_mhz</th><th>mwa_array_configuration</th><th>groupid</th><th>collection_id</th><th>collection_name</th><th>collection_url</th><th>iono_qa</th><th>tiles_with_bad_states</th><th>tiles_with_bad_pointings</th><th>tiles_with_bad_freqs</th><th>tiles_with_bad_gains</th><th>tiles_with_bad_beamshape</th><th>tiles_flagged</th><th>bad_tiles</th><th>good_tiles</th><th>total_tiles</th><th>vcs_files_raw_total</th><th>vcs_files_raw_archived</th><th>vcs_files_ics_archived</th><th>vcs_files_tar_archived</th><th>gpubox_files_total</th><th>gpubox_files_archived</th><th>flag_files_exist</th><th>total_archived_data_files</th><th>total_archived_data_bytes</th><th>total_archived_files</th><th>total_archived_bytes</th><th>files_deleted</th><th>files_deleted_bytes</th><th>data_files_summary</th><th>downloads</th><th>first_download_datetime_mro</th><th>last_download_datetime_mro</th><th>days_since_last_download</th><th>days_from_obs_to_first_download</th><th>downloaded_bytes</th><th>delaymode_name</th><th>delaymode_description</th><th>cable_delays</th><th>cable_delays_description</th><th>geometric_delays</th><th>geometric_delays_description</th><th>calibration_delays</th><th>oversampled_flag</th><th>deripple_flag</th><th>deripple_params</th></tr></thead>\n",
       "<thead><tr><th>int64</th><th>int64</th><th>int64</th><th>int32</th><th>float32</th><th>float32</th><th>object</th><th>object</th><th>object</th><th>object</th><th>str255</th><th>str255</th><th>object</th><th>str50</th><th>str50</th><th>str255</th><th>str255</th><th>int32</th><th>str255</th><th>str2048</th><th>bool</th><th>object</th><th>bool</th><th>float32</th><th>float32</th><th>float32</th><th>float32</th><th>float32</th><th>float32</th><th>float32</th><th>float32</th><th>float32</th><th>float32</th><th>float32</th><th>float32</th><th>float32</th><th>float32</th><th>float32</th><th>bool</th><th>str255</th><th>str50</th><th>int32</th><th>float32</th><th>float32</th><th>float32</th><th>float32</th><th>float32</th><th>str128</th><th>str256</th><th>int32</th><th>int32</th><th>int32</th><th>float32</th><th>float32</th><th>float32</th><th>bool</th><th>int32</th><th>float32</th><th>object</th><th>int64</th><th>int64</th><th>object</th><th>object</th><th>float32</th><th>int32</th><th>int32</th><th>int32</th><th>int32</th><th>int32</th><th>int32</th><th>int32</th><th>int32</th><th>int32</th><th>int64</th><th>int64</th><th>int64</th><th>int64</th><th>int64</th><th>int64</th><th>bool</th><th>int64</th><th>int64</th><th>int64</th><th>int64</th><th>int64</th><th>int64</th><th>str255</th><th>int32</th><th>object</th><th>object</th><th>int32</th><th>int32</th><th>int64</th><th>str255</th><th>str255</th><th>int32</th><th>str255</th><th>int32</th><th>str255</th><th>bool</th><th>bool</th><th>bool</th><th>str255</th></tr></thead>\n",
       "<tr><td>1252341200</td><td>1252341200</td><td>1252341320</td><td>120</td><td>58738.69</td><td>58738.69</td><td>2019-09-12T16:33:02.000Z</td><td>2019-09-12T16:35:02.000Z</td><td>2019-09-13T00:33:02.000Z</td><td>2019-09-13T00:35:02.000Z</td><td>high_2019B_2458738_EOR0_RADec0.0,-27.0_143</td><td>andrew</td><td>2022-11-18T06:52:37.159Z</td><td>HW_LFILES</td><td>G0009</td><td>EoR</td><td>(Webster) Epoch of Reionisation</td><td>1</td><td>Good</td><td></td><td>False</td><td></td><td>False</td><td>2.0</td><td>40.0</td><td>356.3131</td><td>-26.813354</td><td>356.3131</td><td>-26.813354</td><td>0.0</td><td>-27.0</td><td>0.0</td><td>90.0</td><td>0.0</td><td>90.0</td><td>-78.55294</td><td>30.635677</td><td>172.59024</td><td>False</td><td></td><td>sweet</td><td>0</td><td>356.319</td><td>-66.72147</td><td>156.66159</td><td>89.7719</td><td>23.043074</td><td>131,132,133,134,135,136,137,138,139,140,141,142,143,144,145,146,147,148,149,150,151,152,153,154</td><td>167.68,168.96,170.24,171.52,172.8,174.08,175.36,176.64,177.92,179.2,180.48,181.76,183.04,184.32,185.6,186.88,188.16,189.44,190.72,192,193.28,194.56,195.84,197.12</td><td>131</td><td>142</td><td>154</td><td>167.04</td><td>181.12</td><td>197.76</td><td>True</td><td>24</td><td>1.28</td><td>Phase II Compact</td><td>1252332792</td><td>--</td><td></td><td></td><td>--</td><td>0</td><td>1</td><td>0</td><td>0</td><td>1</td><td>2</td><td>4</td><td>124</td><td>128</td><td>0</td><td>0</td><td>0</td><td>0</td><td>24</td><td>24</td><td>True</td><td>24</td><td>5072814720</td><td>26</td><td>5076615246</td><td>0</td><td>0</td><td>24</td><td>2</td><td>2022-09-21T08:55:17.940Z</td><td>2022-10-06T00:53:01.607Z</td><td>357</td><td>1104</td><td>35323740160</td><td>NODELAYS</td><td>No delays applied</td><td>0</td><td>None</td><td>0</td><td>None</td><td>False</td><td>False</td><td>False</td><td></td></tr>\n",
       "<tr><td>1252341320</td><td>1252341320</td><td>1252341440</td><td>120</td><td>58738.69</td><td>58738.69</td><td>2019-09-12T16:35:02.000Z</td><td>2019-09-12T16:37:02.000Z</td><td>2019-09-13T00:35:02.000Z</td><td>2019-09-13T00:37:02.000Z</td><td>high_2019B_2458738_EOR0_RADec0.0,-27.0_143</td><td>andrew</td><td>2022-11-18T06:52:37.159Z</td><td>HW_LFILES</td><td>G0009</td><td>EoR</td><td>(Webster) Epoch of Reionisation</td><td>1</td><td>Good</td><td></td><td>False</td><td></td><td>False</td><td>2.0</td><td>40.0</td><td>356.81494</td><td>-26.813425</td><td>356.81494</td><td>-26.813425</td><td>0.0</td><td>-27.0</td><td>0.0</td><td>90.0</td><td>0.0</td><td>90.0</td><td>-78.55294</td><td>30.635677</td><td>172.59024</td><td>False</td><td></td><td>sweet</td><td>0</td><td>356.82037</td><td>-66.60134</td><td>156.53687</td><td>90.176926</td><td>23.425459</td><td>131,132,133,134,135,136,137,138,139,140,141,142,143,144,145,146,147,148,149,150,151,152,153,154</td><td>167.68,168.96,170.24,171.52,172.8,174.08,175.36,176.64,177.92,179.2,180.48,181.76,183.04,184.32,185.6,186.88,188.16,189.44,190.72,192,193.28,194.56,195.84,197.12</td><td>131</td><td>142</td><td>154</td><td>167.04</td><td>181.12</td><td>197.76</td><td>True</td><td>24</td><td>1.28</td><td>Phase II Compact</td><td>1252332792</td><td>--</td><td></td><td></td><td>--</td><td>0</td><td>1</td><td>0</td><td>0</td><td>1</td><td>2</td><td>4</td><td>124</td><td>128</td><td>0</td><td>0</td><td>0</td><td>0</td><td>24</td><td>24</td><td>True</td><td>24</td><td>5074280640</td><td>26</td><td>5078081853</td><td>0</td><td>0</td><td>24</td><td>2</td><td>2022-09-21T09:08:38.741Z</td><td>2022-10-04T22:03:59.268Z</td><td>358</td><td>1104</td><td>35323740160</td><td>NODELAYS</td><td>No delays applied</td><td>0</td><td>None</td><td>0</td><td>None</td><td>False</td><td>False</td><td>False</td><td></td></tr>\n",
       "<tr><td>1252341440</td><td>1252341440</td><td>1252341560</td><td>120</td><td>58738.69</td><td>58738.695</td><td>2019-09-12T16:37:02.000Z</td><td>2019-09-12T16:39:02.000Z</td><td>2019-09-13T00:37:02.000Z</td><td>2019-09-13T00:39:02.000Z</td><td>high_2019B_2458738_EOR0_RADec0.0,-27.0_143</td><td>andrew</td><td>2022-11-18T06:52:37.159Z</td><td>HW_LFILES</td><td>G0009</td><td>EoR</td><td>(Webster) Epoch of Reionisation</td><td>1</td><td>Good</td><td></td><td>False</td><td></td><td>False</td><td>2.0</td><td>40.0</td><td>357.3168</td><td>-26.813488</td><td>357.3168</td><td>-26.813488</td><td>0.0</td><td>-27.0</td><td>0.0</td><td>90.0</td><td>0.0</td><td>90.0</td><td>-78.55294</td><td>30.635677</td><td>172.59024</td><td>False</td><td></td><td>sweet</td><td>0</td><td>357.32175</td><td>-66.4721</td><td>156.4031</td><td>90.58121</td><td>23.810553</td><td>131,132,133,134,135,136,137,138,139,140,141,142,143,144,145,146,147,148,149,150,151,152,153,154</td><td>167.68,168.96,170.24,171.52,172.8,174.08,175.36,176.64,177.92,179.2,180.48,181.76,183.04,184.32,185.6,186.88,188.16,189.44,190.72,192,193.28,194.56,195.84,197.12</td><td>131</td><td>142</td><td>154</td><td>167.04</td><td>181.12</td><td>197.76</td><td>True</td><td>24</td><td>1.28</td><td>Phase II Compact</td><td>1252332792</td><td>--</td><td></td><td></td><td>--</td><td>0</td><td>1</td><td>0</td><td>0</td><td>1</td><td>2</td><td>4</td><td>124</td><td>128</td><td>0</td><td>0</td><td>0</td><td>0</td><td>24</td><td>24</td><td>True</td><td>24</td><td>5075657280</td><td>26</td><td>5079456209</td><td>0</td><td>0</td><td>24</td><td>2</td><td>2022-09-21T08:32:00.377Z</td><td>2022-10-05T23:59:19.928Z</td><td>357</td><td>1104</td><td>35323740160</td><td>NODELAYS</td><td>No delays applied</td><td>0</td><td>None</td><td>0</td><td>None</td><td>False</td><td>False</td><td>False</td><td></td></tr>\n",
       "<tr><td>1252341560</td><td>1252341560</td><td>1252341680</td><td>120</td><td>58738.695</td><td>58738.695</td><td>2019-09-12T16:39:02.000Z</td><td>2019-09-12T16:41:02.000Z</td><td>2019-09-13T00:39:02.000Z</td><td>2019-09-13T00:41:02.000Z</td><td>high_2019B_2458738_EOR0_RADec0.0,-27.0_143</td><td>andrew</td><td>2022-11-18T06:52:37.159Z</td><td>HW_LFILES</td><td>G0009</td><td>EoR</td><td>(Webster) Epoch of Reionisation</td><td>1</td><td>Good</td><td></td><td>False</td><td></td><td>False</td><td>2.0</td><td>40.0</td><td>357.81866</td><td>-26.813541</td><td>357.81866</td><td>-26.813541</td><td>0.0</td><td>-27.0</td><td>0.0</td><td>90.0</td><td>0.0</td><td>90.0</td><td>-78.55294</td><td>30.635677</td><td>172.59024</td><td>False</td><td></td><td>sweet</td><td>0</td><td>357.82312</td><td>-66.33391</td><td>156.26047</td><td>90.98471</td><td>24.198221</td><td>131,132,133,134,135,136,137,138,139,140,141,142,143,144,145,146,147,148,149,150,151,152,153,154</td><td>167.68,168.96,170.24,171.52,172.8,174.08,175.36,176.64,177.92,179.2,180.48,181.76,183.04,184.32,185.6,186.88,188.16,189.44,190.72,192,193.28,194.56,195.84,197.12</td><td>131</td><td>142</td><td>154</td><td>167.04</td><td>181.12</td><td>197.76</td><td>True</td><td>24</td><td>1.28</td><td>Phase II Compact</td><td>1252332792</td><td>--</td><td></td><td></td><td>--</td><td>0</td><td>1</td><td>0</td><td>0</td><td>1</td><td>2</td><td>4</td><td>124</td><td>128</td><td>0</td><td>0</td><td>0</td><td>0</td><td>24</td><td>24</td><td>True</td><td>24</td><td>5074943040</td><td>26</td><td>5078738076</td><td>0</td><td>0</td><td>24</td><td>2</td><td>2022-09-21T08:28:04.240Z</td><td>2022-10-06T00:28:06.788Z</td><td>357</td><td>1104</td><td>35323740160</td><td>NODELAYS</td><td>No delays applied</td><td>0</td><td>None</td><td>0</td><td>None</td><td>False</td><td>False</td><td>False</td><td></td></tr>\n",
       "<tr><td>1252341680</td><td>1252341680</td><td>1252341800</td><td>120</td><td>58738.695</td><td>58738.695</td><td>2019-09-12T16:41:02.000Z</td><td>2019-09-12T16:43:02.000Z</td><td>2019-09-13T00:41:02.000Z</td><td>2019-09-13T00:43:02.000Z</td><td>high_2019B_2458738_EOR0_RADec0.0,-27.0_143</td><td>andrew</td><td>2022-11-18T06:52:37.159Z</td><td>HW_LFILES</td><td>G0009</td><td>EoR</td><td>(Webster) Epoch of Reionisation</td><td>1</td><td>Good</td><td></td><td>False</td><td></td><td>False</td><td>2.0</td><td>40.0</td><td>358.3205</td><td>-26.813587</td><td>358.3205</td><td>-26.813587</td><td>0.0</td><td>-27.0</td><td>0.0</td><td>90.0</td><td>0.0</td><td>90.0</td><td>-78.55294</td><td>30.635677</td><td>172.59024</td><td>False</td><td></td><td>sweet</td><td>0</td><td>358.3245</td><td>-66.18691</td><td>156.1091</td><td>91.38744</td><td>24.588339</td><td>131,132,133,134,135,136,137,138,139,140,141,142,143,144,145,146,147,148,149,150,151,152,153,154</td><td>167.68,168.96,170.24,171.52,172.8,174.08,175.36,176.64,177.92,179.2,180.48,181.76,183.04,184.32,185.6,186.88,188.16,189.44,190.72,192,193.28,194.56,195.84,197.12</td><td>131</td><td>142</td><td>154</td><td>167.04</td><td>181.12</td><td>197.76</td><td>True</td><td>24</td><td>1.28</td><td>Phase II Compact</td><td>1252332792</td><td>--</td><td></td><td></td><td>--</td><td>0</td><td>1</td><td>0</td><td>0</td><td>1</td><td>2</td><td>4</td><td>124</td><td>128</td><td>0</td><td>0</td><td>0</td><td>0</td><td>24</td><td>24</td><td>True</td><td>24</td><td>5073384960</td><td>26</td><td>5077176669</td><td>0</td><td>0</td><td>24</td><td>2</td><td>2022-09-21T08:45:06.469Z</td><td>2022-10-04T23:11:49.186Z</td><td>358</td><td>1104</td><td>35323740160</td><td>NODELAYS</td><td>No delays applied</td><td>0</td><td>None</td><td>0</td><td>None</td><td>False</td><td>False</td><td>False</td><td></td></tr>\n",
       "<tr><td>1252341800</td><td>1252341800</td><td>1252341920</td><td>120</td><td>58738.695</td><td>58738.7</td><td>2019-09-12T16:43:02.000Z</td><td>2019-09-12T16:45:02.000Z</td><td>2019-09-13T00:43:02.000Z</td><td>2019-09-13T00:45:02.000Z</td><td>high_2019B_2458738_EOR0_RADec0.0,-27.0_143</td><td>andrew</td><td>2022-11-18T06:52:37.159Z</td><td>HW_LFILES</td><td>G0009</td><td>EoR</td><td>(Webster) Epoch of Reionisation</td><td>1</td><td>Good</td><td></td><td>False</td><td></td><td>False</td><td>2.0</td><td>40.0</td><td>358.82236</td><td>-26.813625</td><td>358.82236</td><td>-26.813625</td><td>0.0</td><td>-27.0</td><td>0.0</td><td>90.0</td><td>0.0</td><td>90.0</td><td>-78.55294</td><td>30.635677</td><td>172.9776</td><td>False</td><td></td><td>sweet</td><td>0</td><td>358.82584</td><td>-66.03128</td><td>155.94919</td><td>91.78939</td><td>24.980785</td><td>131,132,133,134,135,136,137,138,139,140,141,142,143,144,145,146,147,148,149,150,151,152,153,154</td><td>167.68,168.96,170.24,171.52,172.8,174.08,175.36,176.64,177.92,179.2,180.48,181.76,183.04,184.32,185.6,186.88,188.16,189.44,190.72,192,193.28,194.56,195.84,197.12</td><td>131</td><td>142</td><td>154</td><td>167.04</td><td>181.12</td><td>197.76</td><td>True</td><td>24</td><td>1.28</td><td>Phase II Compact</td><td>1252332792</td><td>--</td><td></td><td></td><td>--</td><td>0</td><td>1</td><td>0</td><td>0</td><td>1</td><td>2</td><td>4</td><td>124</td><td>128</td><td>0</td><td>0</td><td>0</td><td>0</td><td>24</td><td>24</td><td>True</td><td>24</td><td>5072696640</td><td>26</td><td>5076500034</td><td>0</td><td>0</td><td>24</td><td>2</td><td>2022-09-21T08:53:38.642Z</td><td>2022-10-05T23:57:48.672Z</td><td>357</td><td>1104</td><td>35323740160</td><td>NODELAYS</td><td>No delays applied</td><td>0</td><td>None</td><td>0</td><td>None</td><td>False</td><td>False</td><td>False</td><td></td></tr>\n",
       "<tr><td>...</td><td>...</td><td>...</td><td>...</td><td>...</td><td>...</td><td>...</td><td>...</td><td>...</td><td>...</td><td>...</td><td>...</td><td>...</td><td>...</td><td>...</td><td>...</td><td>...</td><td>...</td><td>...</td><td>...</td><td>...</td><td>...</td><td>...</td><td>...</td><td>...</td><td>...</td><td>...</td><td>...</td><td>...</td><td>...</td><td>...</td><td>...</td><td>...</td><td>...</td><td>...</td><td>...</td><td>...</td><td>...</td><td>...</td><td>...</td><td>...</td><td>...</td><td>...</td><td>...</td><td>...</td><td>...</td><td>...</td><td>...</td><td>...</td><td>...</td><td>...</td><td>...</td><td>...</td><td>...</td><td>...</td><td>...</td><td>...</td><td>...</td><td>...</td><td>...</td><td>...</td><td>...</td><td>...</td><td>...</td><td>...</td><td>...</td><td>...</td><td>...</td><td>...</td><td>...</td><td>...</td><td>...</td><td>...</td><td>...</td><td>...</td><td>...</td><td>...</td><td>...</td><td>...</td><td>...</td><td>...</td><td>...</td><td>...</td><td>...</td><td>...</td><td>...</td><td>...</td><td>...</td><td>...</td><td>...</td><td>...</td><td>...</td><td>...</td><td>...</td><td>...</td><td>...</td><td>...</td><td>...</td><td>...</td><td>...</td><td>...</td><td>...</td><td>...</td></tr>\n",
       "<tr><td>1259149704</td><td>1259149704</td><td>1259149824</td><td>120</td><td>58817.492</td><td>58817.492</td><td>2019-11-30T11:48:06.000Z</td><td>2019-11-30T11:50:06.000Z</td><td>2019-11-30T19:48:06.000Z</td><td>2019-11-30T19:50:06.000Z</td><td>high_2019B_2458817_EOR0_RADec0.0,-27.0_143</td><td>andrew</td><td>2022-11-18T06:58:52.500Z</td><td>HW_LFILES</td><td>G0009</td><td>EoR</td><td>(Webster) Epoch of Reionisation</td><td>1</td><td>Good</td><td></td><td>False</td><td></td><td>False</td><td>2.0</td><td>40.0</td><td>2.757545</td><td>-26.812029</td><td>2.757545</td><td>-26.812029</td><td>0.0</td><td>-27.0</td><td>0.0</td><td>90.0</td><td>0.0</td><td>90.0</td><td>-78.55294</td><td>30.635677</td><td>--</td><td>False</td><td></td><td>sweet</td><td>0</td><td>363.0051</td><td>-12.05915</td><td>102.053955</td><td>82.70804</td><td>59.529175</td><td>131,132,133,134,135,136,137,138,139,140,141,142,143,144,145,146,147,148,149,150,151,152,153,154</td><td>167.68,168.96,170.24,171.52,172.8,174.08,175.36,176.64,177.92,179.2,180.48,181.76,183.04,184.32,185.6,186.88,188.16,189.44,190.72,192,193.28,194.56,195.84,197.12</td><td>131</td><td>142</td><td>154</td><td>167.04</td><td>181.12</td><td>197.76</td><td>True</td><td>24</td><td>1.28</td><td>Phase II Compact</td><td>1259148736</td><td>--</td><td></td><td></td><td>--</td><td>0</td><td>0</td><td>0</td><td>0</td><td>1</td><td>14</td><td>15</td><td>113</td><td>128</td><td>0</td><td>0</td><td>0</td><td>0</td><td>24</td><td>24</td><td>True</td><td>24</td><td>4949524800</td><td>26</td><td>4953390989</td><td>0</td><td>0</td><td>24</td><td>1</td><td>2022-07-20T08:55:42.103Z</td><td>2022-07-20T08:55:42.103Z</td><td>434</td><td>962</td><td>4953518080</td><td>NODELAYS</td><td>No delays applied</td><td>0</td><td>None</td><td>0</td><td>None</td><td>False</td><td>False</td><td>False</td><td></td></tr>\n",
       "<tr><td>1259149824</td><td>1259149824</td><td>1259149944</td><td>120</td><td>58817.492</td><td>58817.496</td><td>2019-11-30T11:50:06.000Z</td><td>2019-11-30T11:52:06.000Z</td><td>2019-11-30T19:50:06.000Z</td><td>2019-11-30T19:52:06.000Z</td><td>high_2019B_2458817_EOR0_RADec0.0,-27.0_143</td><td>andrew</td><td>2022-11-18T06:58:52.500Z</td><td>HW_LFILES</td><td>G0009</td><td>EoR</td><td>(Webster) Epoch of Reionisation</td><td>1</td><td>Good</td><td></td><td>False</td><td></td><td>False</td><td>2.0</td><td>40.0</td><td>3.2593937</td><td>-26.811972</td><td>3.2593937</td><td>-26.811972</td><td>0.0</td><td>-27.0</td><td>0.0</td><td>90.0</td><td>0.0</td><td>90.0</td><td>-78.55294</td><td>30.635677</td><td>--</td><td>False</td><td></td><td>sweet</td><td>0</td><td>363.50647</td><td>-12.4372835</td><td>102.4321</td><td>83.1214</td><td>59.955677</td><td>131,132,133,134,135,136,137,138,139,140,141,142,143,144,145,146,147,148,149,150,151,152,153,154</td><td>167.68,168.96,170.24,171.52,172.8,174.08,175.36,176.64,177.92,179.2,180.48,181.76,183.04,184.32,185.6,186.88,188.16,189.44,190.72,192,193.28,194.56,195.84,197.12</td><td>131</td><td>142</td><td>154</td><td>167.04</td><td>181.12</td><td>197.76</td><td>True</td><td>24</td><td>1.28</td><td>Phase II Compact</td><td>1259148736</td><td>--</td><td></td><td></td><td>--</td><td>0</td><td>0</td><td>0</td><td>0</td><td>1</td><td>14</td><td>15</td><td>113</td><td>128</td><td>0</td><td>0</td><td>0</td><td>0</td><td>24</td><td>24</td><td>True</td><td>24</td><td>4948464960</td><td>26</td><td>4952325392</td><td>0</td><td>0</td><td>24</td><td>1</td><td>2022-07-20T08:55:31.892Z</td><td>2022-07-20T08:55:31.892Z</td><td>434</td><td>962</td><td>4952453120</td><td>NODELAYS</td><td>No delays applied</td><td>0</td><td>None</td><td>0</td><td>None</td><td>False</td><td>False</td><td>False</td><td></td></tr>\n",
       "<tr><td>1259149944</td><td>1259149944</td><td>1259150064</td><td>120</td><td>58817.496</td><td>58817.496</td><td>2019-11-30T11:52:06.000Z</td><td>2019-11-30T11:54:06.000Z</td><td>2019-11-30T19:52:06.000Z</td><td>2019-11-30T19:54:06.000Z</td><td>high_2019B_2458817_EOR0_RADec0.0,-27.0_143</td><td>andrew</td><td>2022-11-18T06:58:52.500Z</td><td>HW_LFILES</td><td>G0009</td><td>EoR</td><td>(Webster) Epoch of Reionisation</td><td>1</td><td>Good</td><td></td><td>False</td><td></td><td>False</td><td>2.0</td><td>40.0</td><td>3.7612422</td><td>-26.811907</td><td>3.7612422</td><td>-26.811907</td><td>0.0</td><td>-27.0</td><td>0.0</td><td>90.0</td><td>0.0</td><td>90.0</td><td>-78.55294</td><td>30.635677</td><td>--</td><td>False</td><td></td><td>sweet</td><td>0</td><td>364.0078</td><td>-12.814264</td><td>102.80909</td><td>83.53414</td><td>60.381897</td><td>131,132,133,134,135,136,137,138,139,140,141,142,143,144,145,146,147,148,149,150,151,152,153,154</td><td>167.68,168.96,170.24,171.52,172.8,174.08,175.36,176.64,177.92,179.2,180.48,181.76,183.04,184.32,185.6,186.88,188.16,189.44,190.72,192,193.28,194.56,195.84,197.12</td><td>131</td><td>142</td><td>154</td><td>167.04</td><td>181.12</td><td>197.76</td><td>True</td><td>24</td><td>1.28</td><td>Phase II Compact</td><td>1259148736</td><td>--</td><td></td><td></td><td>--</td><td>0</td><td>0</td><td>0</td><td>0</td><td>1</td><td>14</td><td>15</td><td>113</td><td>128</td><td>0</td><td>0</td><td>0</td><td>0</td><td>24</td><td>24</td><td>True</td><td>24</td><td>4949277120</td><td>26</td><td>4953137761</td><td>0</td><td>0</td><td>24</td><td>1</td><td>2022-07-20T08:55:40.403Z</td><td>2022-07-20T08:55:40.403Z</td><td>434</td><td>962</td><td>4953262080</td><td>NODELAYS</td><td>No delays applied</td><td>0</td><td>None</td><td>0</td><td>None</td><td>False</td><td>False</td><td>False</td><td></td></tr>\n",
       "<tr><td>1259408440</td><td>1259408440</td><td>1259408560</td><td>120</td><td>58820.49</td><td>58820.49</td><td>2019-12-03T11:40:22.000Z</td><td>2019-12-03T11:42:22.000Z</td><td>2019-12-03T19:40:22.000Z</td><td>2019-12-03T19:42:22.000Z</td><td>high_2019B_drift_2458820_EOR0_AzEl0.0,90.0_143</td><td>andrew</td><td>2022-11-18T06:59:11.608Z</td><td>HW_LFILES</td><td>G0009</td><td>EoR</td><td>(Webster) Epoch of Reionisation</td><td>1</td><td>Good</td><td></td><td>False</td><td></td><td>False</td><td>2.0</td><td>40.0</td><td>3.7766967</td><td>-26.811966</td><td>3.7766967</td><td>-26.811966</td><td>3.7766967</td><td>-26.811966</td><td>0.0</td><td>90.0</td><td>0.0</td><td>90.0</td><td>-81.90062</td><td>33.101677</td><td>--</td><td>False</td><td></td><td>sweet</td><td>0</td><td>364.0234</td><td>-10.111308</td><td>100.10612</td><td>82.94775</td><td>29.409904</td><td>131,132,133,134,135,136,137,138,139,140,141,142,143,144,145,146,147,148,149,150,151,152,153,154</td><td>167.68,168.96,170.24,171.52,172.8,174.08,175.36,176.64,177.92,179.2,180.48,181.76,183.04,184.32,185.6,186.88,188.16,189.44,190.72,192,193.28,194.56,195.84,197.12</td><td>131</td><td>142</td><td>154</td><td>167.04</td><td>181.12</td><td>197.76</td><td>True</td><td>24</td><td>1.28</td><td>Phase II Compact</td><td>1259408072</td><td>--</td><td></td><td></td><td>--</td><td>0</td><td>1</td><td>0</td><td>0</td><td>1</td><td>14</td><td>16</td><td>112</td><td>128</td><td>0</td><td>0</td><td>0</td><td>0</td><td>24</td><td>24</td><td>True</td><td>24</td><td>4917202560</td><td>26</td><td>4920989715</td><td>0</td><td>0</td><td>24</td><td>1</td><td>2022-07-20T08:35:05.038Z</td><td>2022-07-20T08:35:05.038Z</td><td>434</td><td>959</td><td>4921118720</td><td>NODELAYS</td><td>No delays applied</td><td>0</td><td>None</td><td>0</td><td>None</td><td>False</td><td>False</td><td>False</td><td></td></tr>\n",
       "<tr><td>1259408560</td><td>1259408560</td><td>1259408680</td><td>120</td><td>58820.49</td><td>58820.49</td><td>2019-12-03T11:42:22.000Z</td><td>2019-12-03T11:44:22.000Z</td><td>2019-12-03T19:42:22.000Z</td><td>2019-12-03T19:44:22.000Z</td><td>high_2019B_drift_2458820_EOR0_AzEl0.0,90.0_143</td><td>andrew</td><td>2022-11-18T06:59:11.608Z</td><td>HW_LFILES</td><td>G0009</td><td>EoR</td><td>(Webster) Epoch of Reionisation</td><td>1</td><td>Good</td><td></td><td>False</td><td></td><td>False</td><td>2.0</td><td>40.0</td><td>4.278545</td><td>-26.811893</td><td>4.278545</td><td>-26.811893</td><td>4.278545</td><td>-26.811893</td><td>0.0</td><td>90.0</td><td>0.0</td><td>90.0</td><td>-82.347244</td><td>33.34754</td><td>--</td><td>False</td><td></td><td>sweet</td><td>0</td><td>364.52478</td><td>-10.492822</td><td>100.48764</td><td>83.36073</td><td>29.828434</td><td>131,132,133,134,135,136,137,138,139,140,141,142,143,144,145,146,147,148,149,150,151,152,153,154</td><td>167.68,168.96,170.24,171.52,172.8,174.08,175.36,176.64,177.92,179.2,180.48,181.76,183.04,184.32,185.6,186.88,188.16,189.44,190.72,192,193.28,194.56,195.84,197.12</td><td>131</td><td>142</td><td>154</td><td>167.04</td><td>181.12</td><td>197.76</td><td>True</td><td>24</td><td>1.28</td><td>Phase II Compact</td><td>1259408072</td><td>--</td><td></td><td></td><td>--</td><td>0</td><td>0</td><td>0</td><td>0</td><td>1</td><td>14</td><td>15</td><td>113</td><td>128</td><td>0</td><td>0</td><td>0</td><td>0</td><td>24</td><td>24</td><td>True</td><td>24</td><td>4915941120</td><td>26</td><td>4919707577</td><td>0</td><td>0</td><td>24</td><td>1</td><td>2022-07-20T08:34:36.779Z</td><td>2022-07-20T08:34:36.779Z</td><td>434</td><td>959</td><td>4919838720</td><td>NODELAYS</td><td>No delays applied</td><td>0</td><td>None</td><td>0</td><td>None</td><td>False</td><td>False</td><td>False</td><td></td></tr>\n",
       "<tr><td>1259408680</td><td>1259408680</td><td>1259408800</td><td>120</td><td>58820.49</td><td>58820.492</td><td>2019-12-03T11:44:22.000Z</td><td>2019-12-03T11:46:22.000Z</td><td>2019-12-03T19:44:22.000Z</td><td>2019-12-03T19:46:22.000Z</td><td>high_2019B_drift_2458820_EOR0_AzEl0.0,90.0_143</td><td>andrew</td><td>2022-11-18T06:59:11.608Z</td><td>HW_LFILES</td><td>G0009</td><td>EoR</td><td>(Webster) Epoch of Reionisation</td><td>1</td><td>Good</td><td></td><td>False</td><td></td><td>False</td><td>2.0</td><td>40.0</td><td>4.780393</td><td>-26.811811</td><td>4.780393</td><td>-26.811811</td><td>4.780393</td><td>-26.811811</td><td>0.0</td><td>90.0</td><td>0.0</td><td>90.0</td><td>-82.79386</td><td>33.60969</td><td>--</td><td>False</td><td></td><td>sweet</td><td>0</td><td>365.02615</td><td>-10.873246</td><td>100.86808</td><td>83.773094</td><td>30.248028</td><td>131,132,133,134,135,136,137,138,139,140,141,142,143,144,145,146,147,148,149,150,151,152,153,154</td><td>167.68,168.96,170.24,171.52,172.8,174.08,175.36,176.64,177.92,179.2,180.48,181.76,183.04,184.32,185.6,186.88,188.16,189.44,190.72,192,193.28,194.56,195.84,197.12</td><td>131</td><td>142</td><td>154</td><td>167.04</td><td>181.12</td><td>197.76</td><td>True</td><td>24</td><td>1.28</td><td>Phase II Compact</td><td>1259408072</td><td>--</td><td></td><td></td><td>--</td><td>0</td><td>0</td><td>0</td><td>0</td><td>1</td><td>14</td><td>15</td><td>113</td><td>128</td><td>0</td><td>0</td><td>0</td><td>0</td><td>24</td><td>24</td><td>True</td><td>24</td><td>4916309760</td><td>26</td><td>4920074113</td><td>0</td><td>0</td><td>24</td><td>1</td><td>2022-07-20T08:34:37.542Z</td><td>2022-07-20T08:34:37.542Z</td><td>434</td><td>959</td><td>4920207360</td><td>NODELAYS</td><td>No delays applied</td><td>0</td><td>None</td><td>0</td><td>None</td><td>False</td><td>False</td><td>False</td><td></td></tr>\n",
       "<tr><td>1259408800</td><td>1259408800</td><td>1259408920</td><td>120</td><td>58820.492</td><td>58820.492</td><td>2019-12-03T11:46:22.000Z</td><td>2019-12-03T11:48:22.000Z</td><td>2019-12-03T19:46:22.000Z</td><td>2019-12-03T19:48:22.000Z</td><td>high_2019B_drift_2458820_EOR0_AzEl0.0,90.0_143</td><td>andrew</td><td>2022-11-18T06:59:11.608Z</td><td>HW_LFILES</td><td>G0009</td><td>EoR</td><td>(Webster) Epoch of Reionisation</td><td>1</td><td>Good</td><td></td><td>False</td><td></td><td>False</td><td>2.0</td><td>40.0</td><td>5.282241</td><td>-26.811722</td><td>5.282241</td><td>-26.811722</td><td>5.282241</td><td>-26.811722</td><td>0.0</td><td>90.0</td><td>0.0</td><td>90.0</td><td>-83.24045</td><td>33.89137</td><td>--</td><td>False</td><td></td><td>sweet</td><td>0</td><td>365.52753</td><td>-11.252564</td><td>101.247406</td><td>84.18482</td><td>30.668636</td><td>131,132,133,134,135,136,137,138,139,140,141,142,143,144,145,146,147,148,149,150,151,152,153,154</td><td>167.68,168.96,170.24,171.52,172.8,174.08,175.36,176.64,177.92,179.2,180.48,181.76,183.04,184.32,185.6,186.88,188.16,189.44,190.72,192,193.28,194.56,195.84,197.12</td><td>131</td><td>142</td><td>154</td><td>167.04</td><td>181.12</td><td>197.76</td><td>True</td><td>24</td><td>1.28</td><td>Phase II Compact</td><td>1259408072</td><td>--</td><td></td><td></td><td>--</td><td>0</td><td>0</td><td>0</td><td>0</td><td>1</td><td>14</td><td>15</td><td>113</td><td>128</td><td>0</td><td>0</td><td>0</td><td>0</td><td>24</td><td>24</td><td>True</td><td>24</td><td>4916793600</td><td>26</td><td>4920554614</td><td>0</td><td>0</td><td>24</td><td>1</td><td>2022-07-20T08:34:10.580Z</td><td>2022-07-20T08:34:10.580Z</td><td>434</td><td>959</td><td>4920688640</td><td>NODELAYS</td><td>No delays applied</td><td>0</td><td>None</td><td>0</td><td>None</td><td>False</td><td>False</td><td>False</td><td></td></tr>\n",
       "</table></div>"
      ],
      "text/plain": [
       "<Table length=460>\n",
       "  obs_id   starttime   stoptime  ... deripple_flag deripple_params\n",
       "  int64      int64      int64    ...      bool          str255    \n",
       "---------- ---------- ---------- ... ------------- ---------------\n",
       "1252341200 1252341200 1252341320 ...         False                \n",
       "1252341320 1252341320 1252341440 ...         False                \n",
       "1252341440 1252341440 1252341560 ...         False                \n",
       "1252341560 1252341560 1252341680 ...         False                \n",
       "1252341680 1252341680 1252341800 ...         False                \n",
       "1252341800 1252341800 1252341920 ...         False                \n",
       "       ...        ...        ... ...           ...             ...\n",
       "1259149704 1259149704 1259149824 ...         False                \n",
       "1259149824 1259149824 1259149944 ...         False                \n",
       "1259149944 1259149944 1259150064 ...         False                \n",
       "1259408440 1259408440 1259408560 ...         False                \n",
       "1259408560 1259408560 1259408680 ...         False                \n",
       "1259408680 1259408680 1259408800 ...         False                \n",
       "1259408800 1259408800 1259408920 ...         False                "
      ]
     },
     "execution_count": 2,
     "metadata": {},
     "output_type": "execute_result"
    }
   ],
   "source": [
    "vt"
   ]
  },
  {
   "cell_type": "code",
   "execution_count": 4,
   "id": "f1146c31",
   "metadata": {},
   "outputs": [],
   "source": [
    "# Get the relevant information from the table. Turn them into numpy arrays\n",
    "obs_id = vt['obs_id']\n",
    "obs_id_data = np.array(obs_id.data)\n",
    "gridpoint_number = vt['gridpoint_number']\n",
    "gridpoint_number_data = np.array(gridpoint_number.data)\n",
    "starttime_utc = vt['starttime_utc']\n",
    "starttime_utc_data = np.array(starttime_utc.data)"
   ]
  },
  {
   "cell_type": "code",
   "execution_count": 5,
   "id": "55b3fbab",
   "metadata": {},
   "outputs": [
    {
     "name": "stdout",
     "output_type": "stream",
     "text": [
      "Redo start: 1252342880\n",
      "Redo end: 1259408440\n"
     ]
    }
   ],
   "source": [
    "#Use the difference between neighboring observations to see if there are jumps.\n",
    "# These indicate new days\n",
    "end_day_inds = np.argwhere(np.diff(obs_id) > 1000) \n",
    "new_day_inds = end_day_inds + 1\n",
    "\n",
    "#Print out the hanging observations at the start and end of the table in case this\n",
    "# votable table is a subset \n",
    "redo_day_start = obs_id[end_day_inds[0]] \n",
    "redo_day_end = obs_id[new_day_inds[new_day_inds.size-1]]\n",
    "print(\"Redo start: \" + str(redo_day_start.data[0])) \n",
    "print(\"Redo end: \" + str(redo_day_end.data[0]))\n",
    "\n",
    "#Grab the indices from the nonhanging observation chunks\n",
    "end_to_print_inds = end_day_inds[1:] + 1\n",
    "start_to_print_inds = new_day_inds[:new_day_inds.size-1]\n",
    "\n",
    "#Create lists where each new entry is a new day for both the obs ids and the grid point numbers \n",
    "day_list = [] \n",
    "pointing_list = [] \n",
    "for start_i in range(len(start_to_print_inds)): \n",
    "    day = np.array(obs_id_data)[start_to_print_inds[start_i].item():end_to_print_inds[start_i].item()] \n",
    "    day_list.append(day)\n",
    "    pointing = np.array(gridpoint_number_data)[start_to_print_inds[start_i].item():end_to_print_inds[start_i].item()] \n",
    "    pointing_list.append(pointing)\n",
    "\n",
    "#Create the names of the days and pointings for the filenames.\n",
    "# Optionally choose a different starting index for the day names in case this is a subset votable table\n",
    "day_name_start=1  \n",
    "#pointing_names = ['minustwo','minusone','zenith','plusone','plustwo'] \n",
    "pointing_names = ['zenith'] \n",
    "day_names = np.arange(len(day_list)) + day_name_start\n",
    "#pointing_numbers = [3,1,0,2,4]\n",
    "pointing_numbers = [0]\n",
    "\n",
    "#Populate the by-day observation txt files, ie 1.txt, 2.txt, ...\n",
    "for day_i,day_name in enumerate(day_names):\n",
    "    #filename = '/Users/nicholebarry/MWA/data/obs_lists/' + str(day_name) + '.txt'\n",
    "    #filename = '/Users/nicholebarry/MWA/data/obs_lists/2016/' + str(day_name) + '.txt'\n",
    "    filename = '/Users/nicholebarry/MWA/data/obs_lists/zenith_deform/' + str(day_name) + '.txt'\n",
    "    with open(filename, 'w') as outfile:\n",
    "        for obs in day_list[day_i]:\n",
    "            outfile.write(f\"{obs:}\\n\")\n",
    "\n",
    "    \n",
    "# #Split each day into pointing subsets and create the by-pointing observation txt files for \n",
    "# # each day, ie 1_minustwo.txt, 1_minusone.txt, ...\n",
    "# for day_i,day in enumerate(day_list):\n",
    "#     day_name = day_names[day_i]\n",
    "#     pointings_in_day = pointing_list[day_i]\n",
    "#     ar, index = np.unique(pointings_in_day,return_index=True)\n",
    "#     for pointing in pointings_in_day[sorted(index)]:\n",
    "#         pointing_inds = np.argwhere(pointings_in_day == pointing)\n",
    "#         num_poi = np.argwhere(pointing == pointing_numbers).size\n",
    "#         if num_poi > 0:\n",
    "#             pointing_name = pointing_names[np.argwhere(pointing == pointing_numbers).item()]\n",
    "#             #filename = '/Users/nicholebarry/MWA/data/obs_lists/' + str(day_name) + '_' + str(pointing_name) + '.txt'\n",
    "#             filename = '/Users/nicholebarry/MWA/data/obs_lists/zenith_deform/' + str(day_name) + '_' + str(pointing_name) + '.txt'\n",
    "#             with open(filename, 'w') as outfile:\n",
    "#                 for obs in day[pointing_inds]:\n",
    "#                     outfile.write(f\"{obs.item():}\\n\")\n",
    "                \n",
    "#For documentation purposes, also record the actual starting datetimes of the days in that dir                 \n",
    "#filename = '/Users/nicholebarry/MWA/data/obs_lists/days_all.txt'\n",
    "filename = '/Users/nicholebarry/MWA/data/obs_lists/zenith_deform/days_all.txt'\n",
    "with open(filename, 'w') as outfile:\n",
    "    for day_i,day_name in enumerate(day_names):\n",
    "        day_start = starttime_utc_data[start_to_print_inds[day_i].item()]\n",
    "        outfile.write(f\"{day_start:}\\n\")\n"
   ]
  },
  {
   "cell_type": "code",
   "execution_count": 6,
   "id": "8932a547",
   "metadata": {},
   "outputs": [
    {
     "data": {
      "text/plain": [
       "29"
      ]
     },
     "execution_count": 6,
     "metadata": {},
     "output_type": "execute_result"
    }
   ],
   "source": [
    "np.argwhere(np.diff(obs_id) > 1000).size"
   ]
  },
  {
   "cell_type": "code",
   "execution_count": null,
   "id": "8828ea88",
   "metadata": {},
   "outputs": [],
   "source": []
  }
 ],
 "metadata": {
  "kernelspec": {
   "display_name": "Python 3 (ipykernel)",
   "language": "python",
   "name": "python3"
  },
  "language_info": {
   "codemirror_mode": {
    "name": "ipython",
    "version": 3
   },
   "file_extension": ".py",
   "mimetype": "text/x-python",
   "name": "python",
   "nbconvert_exporter": "python",
   "pygments_lexer": "ipython3",
   "version": "3.11.3"
  }
 },
 "nbformat": 4,
 "nbformat_minor": 5
}
