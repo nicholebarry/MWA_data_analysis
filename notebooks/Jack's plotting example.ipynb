{
 "cells": [
  {
   "cell_type": "code",
   "execution_count": null,
   "id": "14115a33",
   "metadata": {},
   "outputs": [],
   "source": [
    "import matplotlib.pyplot as plt\n",
    "from astropy.io import fits\n",
    "from astropy.wcs import WCS\n",
    "from shamfi.shamfi_plotting import add_colourbar\n",
    "\n",
    "\n",
    "with fits.open(\"1090008640_21cm_highband_noise_band01-image.fits\") as hdu:\n",
    "\n",
    "    sky_image = hdu[0].data[0,0,:,:]\n",
    "\n",
    "    wcs = WCS(hdu[0].header).celestial\n",
    "\n",
    "\n",
    "\n",
    "with fits.open(\"hello_beam.fits\") as hdu:\n",
    "\n",
    "    beam_image = hdu[0].data[0,0,:,:]*100\n",
    "\n",
    "\n",
    "\n",
    "fig = plt.figure(figsize=(6,6))\n",
    "ax = fig.add_subplot(1,1,1,projection=wcs)\n",
    "\n",
    "im = ax.imshow(sky_image, cmap='viridis', vmin=-5, vmax=5)\n",
    "\n",
    "add_colourbar(fig=fig, im=im, ax=ax, label='Jy/beam')\n",
    "\n",
    "CS = ax.contour(beam_image, levels=[1, 10, 50], colors='k')\n",
    "\n",
    "def fmt(x):\n",
    "    s = f\"{x:.1f}\"\n",
    "    if s.endswith(\"0\"):\n",
    "        s = f\"{x:.0f}\"\n",
    "    return rf\"{s} \\%\" if plt.rcParams[\"text.usetex\"] else f\"{s} %\"\n",
    "\n",
    "\n",
    "manual_locations = [(1510, 750), (1510, 800), (1510, 1200),\n",
    "                    (300,1510), (2700,1510), (1510,300), (1510, 2900)]\n",
    "\n",
    "clabels = ax.clabel(CS, CS.levels, inline=True, fmt=fmt, fontsize=10,\n",
    "                     manual=manual_locations)\n",
    "\n",
    "ax.set_xlabel(\"RA\")\n",
    "ax.set_ylabel(\"Dec\")\n",
    "\n",
    "plt.tight_layout()\n",
    "fig.savefig(\"beam_over_noise.png\",bbox_inches='tight')"
   ]
  }
 ],
 "metadata": {
  "kernelspec": {
   "display_name": "Python 3 (ipykernel)",
   "language": "python",
   "name": "python3"
  },
  "language_info": {
   "codemirror_mode": {
    "name": "ipython",
    "version": 3
   },
   "file_extension": ".py",
   "mimetype": "text/x-python",
   "name": "python",
   "nbconvert_exporter": "python",
   "pygments_lexer": "ipython3",
   "version": "3.9.6"
  }
 },
 "nbformat": 4,
 "nbformat_minor": 5
}
