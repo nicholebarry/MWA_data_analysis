{
 "cells": [
  {
   "cell_type": "code",
   "execution_count": 1,
   "id": "969a9e29",
   "metadata": {},
   "outputs": [],
   "source": [
    "import healpy as hp\n",
    "from astropy import units as u\n",
    "from astropy.coordinates import SkyCoord\n",
    "from numpy import *\n",
    "import numpy as np\n",
    "import matplotlib.pyplot as plt\n",
    "import healpy as hp\n",
    "from astropy.io import fits\n",
    "from scipy.interpolate import griddata"
   ]
  },
  {
   "cell_type": "code",
   "execution_count": 2,
   "id": "8993d583",
   "metadata": {},
   "outputs": [],
   "source": [
    "nside=64\n",
    "\n",
    "with fits.open('/Users/nicholebarry/MWA/data/EDA2/EDA2_159MHz_I_wPriori_mono.fits') as hdu:\n",
    "    data = hdu[0].data\n",
    "\n",
    "with fits.open('/Users/nicholebarry/MWA/data/EDA2/EDA2_159-408MHz_SI_wPriori.fits') as hdu:\n",
    "    si = hdu[0].data"
   ]
  },
  {
   "cell_type": "code",
   "execution_count": 9,
   "id": "7b38f208",
   "metadata": {},
   "outputs": [
    {
     "name": "stdout",
     "output_type": "stream",
     "text": [
      "2.950641721445508\n",
      "2185.9775 47.07638\n"
     ]
    }
   ],
   "source": [
    "pix_inds = arange(hp.nside2npix(nside))\n",
    "l, b = hp.pix2ang(nside,pix_inds,lonlat=True)\n",
    "cel_coords = SkyCoord(l*u.deg, b*u.deg, frame='icrs')\n",
    "ra = cel_coords.icrs.ra.value\n",
    "dec = cel_coords.icrs.dec.value\n",
    " \n",
    "l = cel_coords.galactic.l.value\n",
    "b = cel_coords.galactic.b.value\n",
    "shift_inds = np.argwhere((l > 180))\n",
    "l[shift_inds] = l[shift_inds] - 360\n",
    "#galactic_plane_inds = np.argwhere((b < 25) & (b > -25))\n",
    "#ra_subset = ra[galactic_plane_inds]\n",
    "#dec_subset = dec[galactic_plane_inds]\n",
    "#data_subset = data[galactic_plane_inds]\n",
    "#b_subset = b[galactic_plane_inds]\n",
    "#l_subset = l[galactic_plane_inds]\n",
    "print(hp.nside2pixarea(2048,degrees=True)*60*60)\n",
    "\n",
    "k_boltz = 1.38064852e-23\n",
    "vel_c = 299792458.0\n",
    "freq=182e6\n",
    "Jystr = (1e26*2*freq**2*k_boltz) / vel_c**2\n",
    "conversion = hp.nside2pixarea(nside) * Jystr\n",
    "#conversion = Jystr \n",
    "\n",
    "fluxes = data*conversion\n",
    "print(np.abs(fluxes).max(),np.abs(fluxes).mean())"
   ]
  },
  {
   "cell_type": "code",
   "execution_count": 32,
   "id": "6e916ce1",
   "metadata": {},
   "outputs": [
    {
     "name": "stdout",
     "output_type": "stream",
     "text": [
      "8550215.0 184134.17\n"
     ]
    },
    {
     "data": {
      "text/plain": [
       "(3, 18000, 36000)"
      ]
     },
     "execution_count": 32,
     "metadata": {},
     "output_type": "execute_result"
    }
   ],
   "source": [
    "# target grid to interpolate to\n",
    "step_size=0.05\n",
    "yi = np.arange(-90,90,step_size)\n",
    "xi = np.arange(0,360,step_size)\n",
    "xi,yi = np.meshgrid(xi,yi)\n",
    "\n",
    "# interpolate\n",
    "fluxes_grid = griddata((l,b),fluxes,(xi,yi),method='linear')\n",
    "pix_area = (step_size*np.pi/180)**2\n",
    "fluxes_grid = fluxes_grid * pix_area\n",
    "\n",
    "#put into array\n",
    "fits_arr=np.array([fluxes_grid,xi,yi])\n",
    "fits_arr.shape"
   ]
  },
  {
   "cell_type": "code",
   "execution_count": 7,
   "id": "cdc1cffa",
   "metadata": {},
   "outputs": [
    {
     "data": {
      "text/plain": [
       "(3, 3600, 7200)"
      ]
     },
     "execution_count": 7,
     "metadata": {},
     "output_type": "execute_result"
    }
   ],
   "source": [
    "# target grid to interpolate to -- shifted\n",
    "step_size=0.05\n",
    "yi = np.arange(-90,90,step_size)\n",
    "xi = np.arange(0,360,step_size) - 180\n",
    "xi,yi = np.meshgrid(xi,yi)\n",
    "\n",
    "# interpolate\n",
    "fluxes_grid = griddata((l,b),fluxes,(xi,yi),method='linear')\n",
    "pix_area = (step_size*np.pi/180)**2\n",
    "fluxes_grid = fluxes_grid * pix_area\n",
    "\n",
    "#put into array\n",
    "fits_arr=np.array([fluxes_grid,xi,yi])\n",
    "fits_arr.shape"
   ]
  },
  {
   "cell_type": "code",
   "execution_count": 10,
   "id": "e9fff424",
   "metadata": {},
   "outputs": [],
   "source": [
    "hdu = fits.PrimaryHDU(fits_arr)\n",
    "hdu.writeto('/Users/nicholebarry/MWA/data/EDA2/fluxesJyperpix_londeg_latdeg_shift.fits')"
   ]
  },
  {
   "cell_type": "code",
   "execution_count": 9,
   "id": "007c584e",
   "metadata": {},
   "outputs": [],
   "source": [
    "fig = plt.figure(figsize=(10,10))\n",
    "vmin = -100#-0.1\n",
    "vmax = 100#0.1\n",
    "\n",
    "#hp.mollview(fluxes, sub=(2,1,1), fig=fig,title='Galactic (Jy / pixel)',min=vmin,max=vmax)\n",
    "ax2 = fig.add_subplot(2,1,2)\n",
    "ax2.scatter(l,b,c=fluxes,marker='.',vmin=vmin,vmax=vmax)\n",
    "#ax2.scatter(l_subset,b_subset,c=fluxes,marker='.',vmin=vmin,vmax=vmax)\n",
    "ax2.plot(266.416833333,-29.0078055556,'ro',mfc='none',label=\"Where gal centre should be\")\n",
    "ax2.set_xlabel('RA (deg)')\n",
    "ax2.set_ylabel('Dec (deg)')\n",
    "ax2.legend(loc='upper left')\n",
    "\n",
    "fig.savefig('/Users/nicholebarry/MWA/data/EDA2/EDA2_n64_gal_subset_shift.png',bbox_inches='tight')\n",
    "plt.close()"
   ]
  },
  {
   "cell_type": "code",
   "execution_count": null,
   "id": "a22a27b8",
   "metadata": {},
   "outputs": [],
   "source": [
    "longitude = 0 * u.deg\n",
    "latitude = -90 * u.deg\n",
    "rot_custom = hp.Rotator(rot=[longitude.to_value(u.deg), latitude.to_value(u.deg)], inv=True)\n",
    "fluxes_rotated_alms = rot_custom.rotate_map_alms(fluxes)\n",
    "\n",
    "hp.mollview(fluxes_rotated_alms, sub=(2,1,1), fig=fig,title='Galactic (Jy / pixel)',min=vmin,max=vmax)\n",
    "ax2 = fig.add_subplot(2,1,2)\n",
    "ax2.scatter(l,b,c=fluxes_rotated_alms,marker='.',vmin=vmin,vmax=vmax)\n",
    "ax2.set_xlabel('Lat (deg)')\n",
    "ax2.set_ylabel('90deg rotated Lon (deg)')\n",
    "fig.savefig('falselon_pygdsm_nomono_nogalaxy_n2048.png',bbox_inches='tight')\n",
    "plt.close()\n",
    "\n",
    "center_patch_inds = np.argwhere((l > 170) & (l < 190) & (b > -10) & (b < 10))\n",
    "center_patch = fluxes_rotated_alms[center_patch_inds]\n",
    "rotated_lonlat = rot_custom(l,b,lonlat=True)\n",
    "center_patch_latlon = rotated_lonlat[:,center_patch_inds]\n",
    "\n",
    "\n",
    "\n",
    "hdu = fits.PrimaryHDU(l[center_patch_inds])\n",
    "hdu.writeto('center_patch_lat_1024.fits', clobber=True)\n",
    "hdu = fits.PrimaryHDU(b[center_patch_inds])\n",
    "hdu.writeto('center_patch_lon_1024.fits', clobber=True)"
   ]
  }
 ],
 "metadata": {
  "kernelspec": {
   "display_name": "Python 3 (ipykernel)",
   "language": "python",
   "name": "python3"
  },
  "language_info": {
   "codemirror_mode": {
    "name": "ipython",
    "version": 3
   },
   "file_extension": ".py",
   "mimetype": "text/x-python",
   "name": "python",
   "nbconvert_exporter": "python",
   "pygments_lexer": "ipython3",
   "version": "3.11.3"
  }
 },
 "nbformat": 4,
 "nbformat_minor": 5
}
