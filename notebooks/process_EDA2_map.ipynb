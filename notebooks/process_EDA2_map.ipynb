{
 "cells": [
  {
   "cell_type": "code",
   "execution_count": 114,
   "id": "6b68a47a",
   "metadata": {},
   "outputs": [],
   "source": [
    "import healpy as hp\n",
    "from astropy.coordinates import SkyCoord\n",
    "from astropy import units as u\n",
    "from astropy.io import fits\n",
    "import numpy as np\n",
    "from sklearn.cluster import KMeans"
   ]
  },
  {
   "cell_type": "code",
   "execution_count": 26,
   "id": "326b2629",
   "metadata": {},
   "outputs": [
    {
     "name": "stdout",
     "output_type": "stream",
     "text": [
      "49152\n"
     ]
    },
    {
     "name": "stderr",
     "output_type": "stream",
     "text": [
      "WARNING: AstropyDeprecationWarning: \"verbose\" was deprecated in version 1.15.0 and will be removed in a future version.  [warnings]\n",
      "WARNING: AstropyDeprecationWarning: \"verbose\" was deprecated in version 1.15.0 and will be removed in a future version.  [warnings]\n"
     ]
    }
   ],
   "source": [
    "#Read in Mike's hpx map with healpy (or it will break)\n",
    "#Remove the monopole (and dipole) to be closer to an interferometer map\n",
    "#Upgrade the map to the proper resolution for point-source breakdown (MWA resolution)\n",
    "\n",
    "map_fits='/Users/nicholebarry/MWA/data/EDA2/EDA2_159MHz_I_wPrior_HPXbin.fits'\n",
    "map_EDA = hp.read_map(map_fits)\n",
    "\n",
    "mono = hp.pixelfunc.remove_monopole(map_EDA, nest=False, gal_cut=0, copy=True, verbose=True)\n",
    "di = hp.pixelfunc.remove_dipole(map_EDA, nest=False, gal_cut=0, copy=True, verbose=True)\n",
    "\n",
    "mono_up = hp.pixelfunc.ud_grade(mono,2048,order_in='RING')\n",
    "di_up = hp.pixelfunc.ud_grade(di,2048,order_in='RING')"
   ]
  },
  {
   "cell_type": "code",
   "execution_count": 117,
   "id": "3f99f21e",
   "metadata": {},
   "outputs": [],
   "source": [
    "#Read in the spectral index map\n",
    "SI_fits='/Users/nicholebarry/MWA/data/EDA2/EDA2prior159_Haslam408_SI_HPXbin.fits'\n",
    "si_EDA = hp.read_map(SI_fits)\n",
    "\n",
    "#Calculate the ra, dec of each pixel\n",
    "pix_inds_subset = arange(hp.nside2npix(64))\n",
    "l, b = hp.pix2ang(64,pix_inds_subset,lonlat=True)\n",
    "cel_coords = SkyCoord(l*u.deg, b*u.deg, frame='icrs')\n",
    "ra_subset = cel_coords.icrs.ra.value\n",
    "dec_subset = cel_coords.icrs.dec.value\n",
    "\n",
    "#Find the holes from bright A-team sources and their ra/decs\n",
    "missing_inds = np.argwhere(si_EDA < 0)\n",
    "reshaped_missing_inds = missing_inds.reshape(missing_inds.size)\n",
    "ra_holes = ra_subset[reshaped_missing_inds]\n",
    "dec_holes = dec_subset[reshaped_missing_inds]\n",
    "\n",
    "#Prior: there are 9 holes\n",
    "#Use machine learning to group the ra,decs into 9 groups\n",
    "n_holes=9\n",
    "data = list(zip(ra_holes, dec_holes))\n",
    "kmeans = KMeans(n_clusters=n_holes)\n",
    "kmeans.fit(data)\n",
    "      \n",
    "SI_holes=[]\n",
    "si_EDA_filled = np.copy(si_EDA)\n",
    "\n",
    "for hole_i in range(n_holes):\n",
    "    inds = reshaped_missing_inds[np.argwhere(kmeans.labels_ == hole_i)]\n",
    "    ra_hole = ra_subset[inds]\n",
    "    dec_hole = dec_subset[inds]\n",
    "    around_hole_inds = np.argwhere((ra_subset < (np.amax(ra_hole) + 2.)) & (ra_subset > (np.amin(ra_hole) - 2.)) &\n",
    "                                   (dec_subset < (np.amax(dec_hole) + 2.)) & (dec_subset > (np.amin(dec_hole) - 2.)) &\n",
    "                                   (si_EDA > 1))\n",
    "    SI_holes = np.append(SI_holes, np.average(si_EDA[around_hole_inds]))\n",
    "    si_EDA_filled[inds] = np.average(si_EDA[around_hole_inds])\n",
    "    \n",
    "si_EDA_filled_up = hp.pixelfunc.ud_grade(si_EDA_filled,2048,order_in='RING')\n",
    "    \n",
    "outfile = '/Users/nicholebarry/MWA/data/EDA2/EDA2_159-408MHz_SI_wPriori_2049.fits'\n",
    "hdu = fits.PrimaryHDU(si_EDA_filled_up)\n",
    "hdu.writeto(outfile)\n",
    "outfile = '/Users/nicholebarry/MWA/data/EDA2/EDA2_159-408MHz_SI_wPriori.fits'\n",
    "hdu = fits.PrimaryHDU(si_EDA_filled)\n",
    "hdu.writeto(outfile)\n",
    "    "
   ]
  },
  {
   "cell_type": "code",
   "execution_count": 112,
   "id": "bd902737",
   "metadata": {},
   "outputs": [],
   "source": [
    "import matplotlib.pyplot as plt\n",
    "\n",
    "fig = plt.figure(figsize=(10,10))\n",
    "vmin = 1.8\n",
    "vmax = 3.0\n",
    "\n",
    "hp.mollview(si_EDA_filled, sub=(2,1,1), fig=fig,title='Spectral Index of Diffuse Emission',min=vmin,max=vmax)\n",
    "ax2 = fig.add_subplot(2,1,2)\n",
    "ax2.scatter(ra_subset,dec_subset,c=si_EDA_filled,marker='.',vmin=vmin,vmax=vmax)\n",
    "ax2.plot(266.416833333,-29.0078055556,'ro',mfc='none',label=\"Where gal centre should be\")\n",
    "ax2.set_xlabel('RA (deg)')\n",
    "ax2.set_ylabel('Dec (deg)')\n",
    "ax2.legend(loc='upper left')\n",
    "\n",
    "fig.savefig('/Users/nicholebarry/MWA/data/EDA2/si_EDA2_filled.png',bbox_inches='tight')\n",
    "plt.close()\n"
   ]
  },
  {
   "cell_type": "code",
   "execution_count": null,
   "id": "840fb192",
   "metadata": {},
   "outputs": [],
   "source": []
  },
  {
   "cell_type": "code",
   "execution_count": null,
   "id": "aceb46d4",
   "metadata": {},
   "outputs": [],
   "source": []
  }
 ],
 "metadata": {
  "kernelspec": {
   "display_name": "Python 3 (ipykernel)",
   "language": "python",
   "name": "python3"
  },
  "language_info": {
   "codemirror_mode": {
    "name": "ipython",
    "version": 3
   },
   "file_extension": ".py",
   "mimetype": "text/x-python",
   "name": "python",
   "nbconvert_exporter": "python",
   "pygments_lexer": "ipython3",
   "version": "3.11.3"
  }
 },
 "nbformat": 4,
 "nbformat_minor": 5
}
